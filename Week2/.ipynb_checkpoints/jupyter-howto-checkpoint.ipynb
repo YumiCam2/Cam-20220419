{
 "cells": [
  {
   "cell_type": "markdown",
   "id": "38f28bdb",
   "metadata": {
    "slideshow": {
     "slide_type": "slide"
    }
   },
   "source": [
    "# Introduction to Jupyter Notebook\n",
    "- Installing nbextensions and "
   ]
  },
  {
   "cell_type": "markdown",
   "id": "deec96a4",
   "metadata": {
    "ExecuteTime": {
     "end_time": "2022-04-22T17:22:04.655655Z",
     "start_time": "2022-04-22T17:22:04.623712Z"
    },
    "slideshow": {
     "slide_type": "slide"
    }
   },
   "source": [
    "## Characteristics\n",
    "- Web app -> web server\n",
    "- Programs run locally\n",
    "- Run individual cells\n",
    "- Remembers EVERYTHING for that session\n",
    "- Not Sequential\n",
    "- When creating new program. choose Python 3\n",
    "- File extension: <b>.ipynb</b>\n",
    "- NOT text or .py files"
   ]
  },
  {
   "cell_type": "markdown",
   "id": "f37d6a70",
   "metadata": {
    "slideshow": {
     "slide_type": "slide"
    }
   },
   "source": [
    "<img src=\"images/jup.png\">"
   ]
  },
  {
   "cell_type": "markdown",
   "id": "e5de38cc",
   "metadata": {
    "ExecuteTime": {
     "end_time": "2022-04-22T17:50:58.773296Z",
     "start_time": "2022-04-22T17:50:58.763701Z"
    },
    "slideshow": {
     "slide_type": "slide"
    }
   },
   "source": [
    "Jupyter is based on the idea of a kernal:<br>\n",
    "<b>kernal</b> - \"computational engine” that executes the code contained in a Notebook document\n",
    "- When creating new notebook, choose <b>Python 3 (ipython)</b>\n",
    "- Occassionaly gets *lost* \n",
    " - Restart Kernal\n",
    " - Restart Jupyter\n",
    " \n",
    "<img src=\"images/kernal.png\"> "
   ]
  },
  {
   "cell_type": "markdown",
   "id": "e9eec894",
   "metadata": {
    "heading_collapsed": true,
    "slideshow": {
     "slide_type": "slide"
    }
   },
   "source": [
    "## Installing nbextensions\n",
    "- Open terminal or command prompt\n",
    "- conda install -c conda-forge jupyter_contrib_nbextensions\n",
    "  - (jupyter contrib nbextension install --user)®®\n",
    "- conda install -c conda-forge jupyter_nbextensions_configurator\n",
    "  - jupyter nbextensions_configurator enable --user\n",
    "  \n"
   ]
  },
  {
   "cell_type": "markdown",
   "id": "1b2be87c",
   "metadata": {
    "hidden": true,
    "slideshow": {
     "slide_type": "slide"
    }
   },
   "source": [
    "<img src=\"images/nbextensions.png\">"
   ]
  },
  {
   "cell_type": "markdown",
   "id": "b514c6ee",
   "metadata": {
    "hidden": true,
    "slideshow": {
     "slide_type": "slide"
    }
   },
   "source": [
    "<img src=\"images/nb-configurator.png\">"
   ]
  },
  {
   "cell_type": "markdown",
   "id": "e6326c7e",
   "metadata": {
    "slideshow": {
     "slide_type": "slide"
    }
   },
   "source": [
    "## Magic Commands\n",
    "\n",
    "%command  -> in a code cell\n",
    "\n",
    "- Jupyter Specific \n",
    "- command line commands\n",
    "- A few to point out \n",
    "  - cd -> change the current working directory \n",
    "  - conda \n",
    "  - history  -> print notebook history in reverse chrono order\n",
    "  - lsmagic  -> list out magic commands \n",
    "  - magic  -> magic commands and descriptions\n",
    "  - matplotlib -> Set up matplotlib to work interactively\n",
    "  - pip   -> install python libraries/packages\n",
    "  - %%command  -> performs operation on cell... see web link below..called cell magic\n",
    "  \n",
    "More Commands : https://ipython.readthedocs.io/en/stable/interactive/magics.html\n",
    "  \n",
    "  \n"
   ]
  },
  {
   "cell_type": "code",
   "execution_count": 6,
   "id": "07eea0c3",
   "metadata": {
    "ExecuteTime": {
     "end_time": "2022-04-21T21:21:53.308120Z",
     "start_time": "2022-04-21T21:21:53.300327Z"
    },
    "scrolled": true,
    "slideshow": {
     "slide_type": "slide"
    }
   },
   "outputs": [
    {
     "data": {
      "application/json": {
       "cell": {
        "!": "OSMagics",
        "HTML": "Other",
        "SVG": "Other",
        "bash": "Other",
        "capture": "ExecutionMagics",
        "debug": "ExecutionMagics",
        "file": "Other",
        "html": "DisplayMagics",
        "javascript": "DisplayMagics",
        "js": "DisplayMagics",
        "latex": "DisplayMagics",
        "markdown": "DisplayMagics",
        "perl": "Other",
        "prun": "ExecutionMagics",
        "pypy": "Other",
        "python": "Other",
        "python2": "Other",
        "python3": "Other",
        "ruby": "Other",
        "script": "ScriptMagics",
        "sh": "Other",
        "svg": "DisplayMagics",
        "sx": "OSMagics",
        "system": "OSMagics",
        "time": "ExecutionMagics",
        "timeit": "ExecutionMagics",
        "writefile": "OSMagics"
       },
       "line": {
        "alias": "OSMagics",
        "alias_magic": "BasicMagics",
        "autoawait": "AsyncMagics",
        "autocall": "AutoMagics",
        "automagic": "AutoMagics",
        "autosave": "KernelMagics",
        "bookmark": "OSMagics",
        "cat": "Other",
        "cd": "OSMagics",
        "clear": "KernelMagics",
        "colors": "BasicMagics",
        "conda": "PackagingMagics",
        "config": "ConfigMagics",
        "connect_info": "KernelMagics",
        "cp": "Other",
        "debug": "ExecutionMagics",
        "dhist": "OSMagics",
        "dirs": "OSMagics",
        "doctest_mode": "BasicMagics",
        "ed": "Other",
        "edit": "KernelMagics",
        "env": "OSMagics",
        "gui": "BasicMagics",
        "hist": "Other",
        "history": "HistoryMagics",
        "killbgscripts": "ScriptMagics",
        "ldir": "Other",
        "less": "KernelMagics",
        "lf": "Other",
        "lk": "Other",
        "ll": "Other",
        "load": "CodeMagics",
        "load_ext": "ExtensionMagics",
        "loadpy": "CodeMagics",
        "logoff": "LoggingMagics",
        "logon": "LoggingMagics",
        "logstart": "LoggingMagics",
        "logstate": "LoggingMagics",
        "logstop": "LoggingMagics",
        "ls": "Other",
        "lsmagic": "BasicMagics",
        "lx": "Other",
        "macro": "ExecutionMagics",
        "magic": "BasicMagics",
        "man": "KernelMagics",
        "matplotlib": "PylabMagics",
        "mkdir": "Other",
        "more": "KernelMagics",
        "mv": "Other",
        "notebook": "BasicMagics",
        "page": "BasicMagics",
        "pastebin": "CodeMagics",
        "pdb": "ExecutionMagics",
        "pdef": "NamespaceMagics",
        "pdoc": "NamespaceMagics",
        "pfile": "NamespaceMagics",
        "pinfo": "NamespaceMagics",
        "pinfo2": "NamespaceMagics",
        "pip": "PackagingMagics",
        "popd": "OSMagics",
        "pprint": "BasicMagics",
        "precision": "BasicMagics",
        "prun": "ExecutionMagics",
        "psearch": "NamespaceMagics",
        "psource": "NamespaceMagics",
        "pushd": "OSMagics",
        "pwd": "OSMagics",
        "pycat": "OSMagics",
        "pylab": "PylabMagics",
        "qtconsole": "KernelMagics",
        "quickref": "BasicMagics",
        "recall": "HistoryMagics",
        "rehashx": "OSMagics",
        "reload_ext": "ExtensionMagics",
        "rep": "Other",
        "rerun": "HistoryMagics",
        "reset": "NamespaceMagics",
        "reset_selective": "NamespaceMagics",
        "rm": "Other",
        "rmdir": "Other",
        "run": "ExecutionMagics",
        "save": "CodeMagics",
        "sc": "OSMagics",
        "set_env": "OSMagics",
        "store": "StoreMagics",
        "sx": "OSMagics",
        "system": "OSMagics",
        "tb": "ExecutionMagics",
        "time": "ExecutionMagics",
        "timeit": "ExecutionMagics",
        "unalias": "OSMagics",
        "unload_ext": "ExtensionMagics",
        "who": "NamespaceMagics",
        "who_ls": "NamespaceMagics",
        "whos": "NamespaceMagics",
        "xdel": "NamespaceMagics",
        "xmode": "BasicMagics"
       }
      },
      "text/plain": [
       "Available line magics:\n",
       "%alias  %alias_magic  %autoawait  %autocall  %automagic  %autosave  %bookmark  %cat  %cd  %clear  %colors  %conda  %config  %connect_info  %cp  %debug  %dhist  %dirs  %doctest_mode  %ed  %edit  %env  %gui  %hist  %history  %killbgscripts  %ldir  %less  %lf  %lk  %ll  %load  %load_ext  %loadpy  %logoff  %logon  %logstart  %logstate  %logstop  %ls  %lsmagic  %lx  %macro  %magic  %man  %matplotlib  %mkdir  %more  %mv  %notebook  %page  %pastebin  %pdb  %pdef  %pdoc  %pfile  %pinfo  %pinfo2  %pip  %popd  %pprint  %precision  %prun  %psearch  %psource  %pushd  %pwd  %pycat  %pylab  %qtconsole  %quickref  %recall  %rehashx  %reload_ext  %rep  %rerun  %reset  %reset_selective  %rm  %rmdir  %run  %save  %sc  %set_env  %store  %sx  %system  %tb  %time  %timeit  %unalias  %unload_ext  %who  %who_ls  %whos  %xdel  %xmode\n",
       "\n",
       "Available cell magics:\n",
       "%%!  %%HTML  %%SVG  %%bash  %%capture  %%debug  %%file  %%html  %%javascript  %%js  %%latex  %%markdown  %%perl  %%prun  %%pypy  %%python  %%python2  %%python3  %%ruby  %%script  %%sh  %%svg  %%sx  %%system  %%time  %%timeit  %%writefile\n",
       "\n",
       "Automagic is ON, % prefix IS NOT needed for line magics."
      ]
     },
     "execution_count": 6,
     "metadata": {},
     "output_type": "execute_result"
    }
   ],
   "source": [
    "%lsmagic"
   ]
  },
  {
   "cell_type": "markdown",
   "id": "baeb4071",
   "metadata": {
    "slideshow": {
     "slide_type": "slide"
    }
   },
   "source": [
    "## Type of Cells\n",
    "  - Code   -> Python Code cells\n",
    "  - Markdown  -> Information cells, renders Mardown, html, latex\n",
    "    - https://www.markdownguide.org/\n",
    "    - https://www.markdownguide.org/cheat-sheet/\n",
    "    - https://www.w3schools.com/html/\n",
    "    - https://websitesetup.org/html5-cheat-sheet/\n",
    "    - https://www.overleaf.com/learn/latex/Learn_LaTeX_in_30_minutes\n",
    "    - https://sites.lsa.umich.edu/wp-content/uploads/sites/244/2015/04/LaTeX-Syntax-Cheat-Sheet.pdf\n",
    "    "
   ]
  },
  {
   "cell_type": "markdown",
   "id": "b802292c",
   "metadata": {
    "slideshow": {
     "slide_type": "slide"
    }
   },
   "source": [
    "## Action\n",
    "- Keyboard shortcuts\n",
    "<ul>\n",
    "    <li>Diff on Mac vs PC</li>\n",
    "    <ul>\n",
    "        <li> PC <img src=\"images/control-key.jpeg\" style=\"display:inline-block;width:50px;height:50px\"></li>\n",
    "        <li> Mac <img src=\"images/command-key.jpeg\" style=\"display:inline-block;width:50px;height:50px\">  OR \n",
    "        <img src=\"images/windows-key.jpeg\" style=\"display:inline-block;width:50px;height:50px\"></li>    \n",
    "    </ul>\n",
    "</ul>\n"
   ]
  },
  {
   "cell_type": "markdown",
   "id": "cb51c104",
   "metadata": {
    "slideshow": {
     "slide_type": "slide"
    }
   },
   "source": [
    "\n",
    "<ul>\n",
    "    <li><b>Run Cell</b>  \n",
    "        <img src=\"images/shift-key.jpeg\" style=\"display:inline-block;width:75px;height:75px\">\n",
    "        <img src=\"images/enter-key.png\" style=\"display:inline-block;width:75px;height:75px\">\n",
    "    </li>   \n",
    "    <li><b>UNDO</b>  \n",
    "        <img src=\"images/control-key.jpeg\" style=\"display:inline-block;width:75px;height:75px\"> OR \n",
    "        <img src=\"images/command-key.jpeg\" style=\"display:inline-block;width:75px;height:75px\">\n",
    "         <img src=\"images/Z-key.jpeg\" style=\"display:inline-block;width:75px;height:75px\">\n",
    "    </li>\n",
    "     <li><b>Comment/Uncomment Lines (PYTHON) </b>  \n",
    "        <img src=\"images/control-key.jpeg\" style=\"display:inline-block;width:75px;height:75px\"> OR \n",
    "        <img src=\"images/command-key.jpeg\" style=\"display:inline-block;width:75px;height:75px\">\n",
    "         <img src=\"images/slash-key.jpeg\" style=\"display:inline-block;width:75px;height:75px\">\n",
    "    </li>                \n",
    "    <li><b>Indent Block of Code RIGHT</b>\n",
    "        <img src=\"images/tab-key.jpeg\" style=\"display:inline-block;width:75px;height:75px\">\n",
    "    </li>  \n",
    "    <li><b>Indent Block of Code LEFT</b>\n",
    "        <img src=\"images/shift-key.jpeg\" style=\"display:inline-block;width:75px;height:75px\">\n",
    "        <img src=\"images/tab-key.jpeg\" style=\"display:inline-block;width:75px;height:75px\">\n",
    "    </li>    \n",
    "    \n",
    "</ul>"
   ]
  },
  {
   "cell_type": "code",
   "execution_count": 7,
   "id": "e9d86fd2",
   "metadata": {
    "ExecuteTime": {
     "end_time": "2022-04-22T15:21:28.825225Z",
     "start_time": "2022-04-22T15:21:28.759336Z"
    },
    "slideshow": {
     "slide_type": "slide"
    }
   },
   "outputs": [
    {
     "ename": "SyntaxError",
     "evalue": "invalid syntax (29214370.py, line 2)",
     "output_type": "error",
     "traceback": [
      "\u001b[0;36m  File \u001b[0;32m\"/var/folders/_m/wk_89ys95zqcbwnzg62cr8x80000gp/T/ipykernel_74784/29214370.py\"\u001b[0;36m, line \u001b[0;32m2\u001b[0m\n\u001b[0;31m    do stuf\u001b[0m\n\u001b[0m       ^\u001b[0m\n\u001b[0;31mSyntaxError\u001b[0m\u001b[0;31m:\u001b[0m invalid syntax\n"
     ]
    }
   ],
   "source": [
    "priont()\n",
    "do stuf \n",
    "hey \n"
   ]
  },
  {
   "cell_type": "code",
   "execution_count": null,
   "id": "d7100da1",
   "metadata": {},
   "outputs": [],
   "source": []
  }
 ],
 "metadata": {
  "celltoolbar": "Slideshow",
  "kernelspec": {
   "display_name": "Python 3 (ipykernel)",
   "language": "python",
   "name": "python3"
  },
  "language_info": {
   "codemirror_mode": {
    "name": "ipython",
    "version": 3
   },
   "file_extension": ".py",
   "mimetype": "text/x-python",
   "name": "python",
   "nbconvert_exporter": "python",
   "pygments_lexer": "ipython3",
   "version": "3.9.7"
  },
  "toc": {
   "base_numbering": 1,
   "nav_menu": {},
   "number_sections": true,
   "sideBar": true,
   "skip_h1_title": false,
   "title_cell": "Table of Contents",
   "title_sidebar": "Contents",
   "toc_cell": false,
   "toc_position": {},
   "toc_section_display": true,
   "toc_window_display": false
  }
 },
 "nbformat": 4,
 "nbformat_minor": 5
}
