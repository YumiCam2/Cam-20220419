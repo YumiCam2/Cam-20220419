{
 "cells": [
  {
   "cell_type": "markdown",
   "id": "c01a3503",
   "metadata": {
    "slideshow": {
     "slide_type": "slide"
    }
   },
   "source": [
    "# Machine Learning®"
   ]
  },
  {
   "cell_type": "markdown",
   "id": "77009e1c",
   "metadata": {
    "slideshow": {
     "slide_type": "fragment"
    }
   },
   "source": [
    "<img src=\"images/ai.jpeg\" style=\"width:500px;length:500px\">"
   ]
  },
  {
   "cell_type": "markdown",
   "id": "cc53d05f",
   "metadata": {
    "slideshow": {
     "slide_type": "slide"
    }
   },
   "source": [
    "What is Machine Learning?\n",
    "<img src=\"images/ml-1.png\" style=\"width:600px;height:600px\">"
   ]
  },
  {
   "cell_type": "markdown",
   "id": "d2ea3fb1",
   "metadata": {
    "slideshow": {
     "slide_type": "slide"
    }
   },
   "source": [
    "<img src=\"images/ml-3.jpeg\" style=\"width:500px;height:500px\">"
   ]
  },
  {
   "cell_type": "markdown",
   "id": "5caca5d3",
   "metadata": {
    "slideshow": {
     "slide_type": "slide"
    }
   },
   "source": [
    "<b>Supervised Machine Learning</b>\n",
    "<img src=\"images/sup-1.png\" style=\"width:600px;height:600px\">"
   ]
  },
  {
   "cell_type": "markdown",
   "id": "7a6275e2",
   "metadata": {
    "slideshow": {
     "slide_type": "slide"
    }
   },
   "source": [
    "<img src=\"images/sup-2.png\" style=\"width:600px;height:600px\">"
   ]
  },
  {
   "cell_type": "markdown",
   "id": "2252f16e",
   "metadata": {},
   "source": [
    "# SuperVised Machine Learning "
   ]
  },
  {
   "cell_type": "markdown",
   "id": "5880a311",
   "metadata": {},
   "source": [
    "<img src=\"images/superexs.webp\">"
   ]
  },
  {
   "cell_type": "code",
   "execution_count": 142,
   "id": "69c21471",
   "metadata": {
    "ExecuteTime": {
     "end_time": "2022-06-14T15:47:12.325889Z",
     "start_time": "2022-06-14T15:47:12.318956Z"
    },
    "slideshow": {
     "slide_type": "slide"
    }
   },
   "outputs": [],
   "source": [
    "from sklearn.datasets import load_iris\n",
    "from sklearn.linear_model import LinearRegression\n",
    "from sklearn.neighbors import KNeighborsClassifier, NearestNeighbors\n",
    "from sklearn.model_selection import train_test_split\n",
    "from sklearn.metrics import confusion_matrix, plot_confusion_matrix,mean_squared_error,r2_score\n",
    "from sklearn.datasets import make_blobs,make_regression\n",
    "from sklearn import svm\n",
    "from sklearn import tree\n",
    "from sklearn.preprocessing import PolynomialFeatures\n",
    "\n",
    "import pandas as pd\n",
    "import math\n",
    "import numpy as np\n",
    "from matplotlib import pyplot as plt"
   ]
  },
  {
   "cell_type": "markdown",
   "id": "73275abf",
   "metadata": {},
   "source": [
    "## Classifications\n",
    "\n",
    "\n",
    "https://machinelearningmastery.com/types-of-classification-in-machine-learning/"
   ]
  },
  {
   "cell_type": "code",
   "execution_count": 122,
   "id": "da1a00b8",
   "metadata": {
    "ExecuteTime": {
     "end_time": "2022-06-14T14:22:39.482338Z",
     "start_time": "2022-06-14T14:22:39.473970Z"
    },
    "slideshow": {
     "slide_type": "slide"
    }
   },
   "outputs": [
    {
     "name": "stdout",
     "output_type": "stream",
     "text": [
      ".. _iris_dataset:\n",
      "\n",
      "Iris plants dataset\n",
      "--------------------\n",
      "\n",
      "**Data Set Characteristics:**\n",
      "\n",
      "    :Number of Instances: 150 (50 in each of three classes)\n",
      "    :Number of Attributes: 4 numeric, predictive attributes and the class\n",
      "    :Attribute Information:\n",
      "        - sepal length in cm\n",
      "        - sepal width in cm\n",
      "        - petal length in cm\n",
      "        - petal width in cm\n",
      "        - class:\n",
      "                - Iris-Setosa\n",
      "                - Iris-Versicolour\n",
      "                - Iris-Virginica\n",
      "                \n",
      "    :Summary Statistics:\n",
      "\n",
      "    ============== ==== ==== ======= ===== ====================\n",
      "                    Min  Max   Mean    SD   Class Correlation\n",
      "    ============== ==== ==== ======= ===== ====================\n",
      "    sepal length:   4.3  7.9   5.84   0.83    0.7826\n",
      "    sepal width:    2.0  4.4   3.05   0.43   -0.4194\n",
      "    petal length:   1.0  6.9   3.76   1.76    0.9490  (high!)\n",
      "    petal width:    0.1  2.5   1.20   0.76    0.9565  (high!)\n",
      "    ============== ==== ==== ======= ===== ====================\n",
      "\n",
      "    :Missing Attribute Values: None\n",
      "    :Class Distribution: 33.3% for each of 3 classes.\n",
      "    :Creator: R.A. Fisher\n",
      "    :Donor: Michael Marshall (MARSHALL%PLU@io.arc.nasa.gov)\n",
      "    :Date: July, 1988\n",
      "\n",
      "The famous Iris database, first used by Sir R.A. Fisher. The dataset is taken\n",
      "from Fisher's paper. Note that it's the same as in R, but not as in the UCI\n",
      "Machine Learning Repository, which has two wrong data points.\n",
      "\n",
      "This is perhaps the best known database to be found in the\n",
      "pattern recognition literature.  Fisher's paper is a classic in the field and\n",
      "is referenced frequently to this day.  (See Duda & Hart, for example.)  The\n",
      "data set contains 3 classes of 50 instances each, where each class refers to a\n",
      "type of iris plant.  One class is linearly separable from the other 2; the\n",
      "latter are NOT linearly separable from each other.\n",
      "\n",
      ".. topic:: References\n",
      "\n",
      "   - Fisher, R.A. \"The use of multiple measurements in taxonomic problems\"\n",
      "     Annual Eugenics, 7, Part II, 179-188 (1936); also in \"Contributions to\n",
      "     Mathematical Statistics\" (John Wiley, NY, 1950).\n",
      "   - Duda, R.O., & Hart, P.E. (1973) Pattern Classification and Scene Analysis.\n",
      "     (Q327.D83) John Wiley & Sons.  ISBN 0-471-22361-1.  See page 218.\n",
      "   - Dasarathy, B.V. (1980) \"Nosing Around the Neighborhood: A New System\n",
      "     Structure and Classification Rule for Recognition in Partially Exposed\n",
      "     Environments\".  IEEE Transactions on Pattern Analysis and Machine\n",
      "     Intelligence, Vol. PAMI-2, No. 1, 67-71.\n",
      "   - Gates, G.W. (1972) \"The Reduced Nearest Neighbor Rule\".  IEEE Transactions\n",
      "     on Information Theory, May 1972, 431-433.\n",
      "   - See also: 1988 MLC Proceedings, 54-64.  Cheeseman et al\"s AUTOCLASS II\n",
      "     conceptual clustering system finds 3 classes in the data.\n",
      "   - Many, many more ...\n"
     ]
    }
   ],
   "source": [
    "irises = load_iris()\n",
    "print(irises.DESCR)"
   ]
  },
  {
   "cell_type": "code",
   "execution_count": 123,
   "id": "db4adc55",
   "metadata": {
    "ExecuteTime": {
     "end_time": "2022-06-14T14:22:43.621104Z",
     "start_time": "2022-06-14T14:22:43.598747Z"
    },
    "slideshow": {
     "slide_type": "slide"
    }
   },
   "outputs": [],
   "source": [
    "df = pd.DataFrame(irises.data,\n",
    "             columns=irises.feature_names)\n",
    "df['species'] = irises.target\n",
    "df['species_name'] = df['species'].map({0: 'setosa', 1: 'versicolour', 2: 'virginica'})"
   ]
  },
  {
   "cell_type": "code",
   "execution_count": 124,
   "id": "96fe3a7f",
   "metadata": {
    "ExecuteTime": {
     "end_time": "2022-06-14T14:22:44.437765Z",
     "start_time": "2022-06-14T14:22:44.415333Z"
    },
    "slideshow": {
     "slide_type": "fragment"
    }
   },
   "outputs": [
    {
     "data": {
      "text/html": [
       "<div>\n",
       "<style scoped>\n",
       "    .dataframe tbody tr th:only-of-type {\n",
       "        vertical-align: middle;\n",
       "    }\n",
       "\n",
       "    .dataframe tbody tr th {\n",
       "        vertical-align: top;\n",
       "    }\n",
       "\n",
       "    .dataframe thead th {\n",
       "        text-align: right;\n",
       "    }\n",
       "</style>\n",
       "<table border=\"1\" class=\"dataframe\">\n",
       "  <thead>\n",
       "    <tr style=\"text-align: right;\">\n",
       "      <th></th>\n",
       "      <th>sepal length (cm)</th>\n",
       "      <th>sepal width (cm)</th>\n",
       "      <th>petal length (cm)</th>\n",
       "      <th>petal width (cm)</th>\n",
       "      <th>species</th>\n",
       "      <th>species_name</th>\n",
       "    </tr>\n",
       "  </thead>\n",
       "  <tbody>\n",
       "    <tr>\n",
       "      <th>0</th>\n",
       "      <td>5.1</td>\n",
       "      <td>3.5</td>\n",
       "      <td>1.4</td>\n",
       "      <td>0.2</td>\n",
       "      <td>0</td>\n",
       "      <td>setosa</td>\n",
       "    </tr>\n",
       "    <tr>\n",
       "      <th>1</th>\n",
       "      <td>4.9</td>\n",
       "      <td>3.0</td>\n",
       "      <td>1.4</td>\n",
       "      <td>0.2</td>\n",
       "      <td>0</td>\n",
       "      <td>setosa</td>\n",
       "    </tr>\n",
       "    <tr>\n",
       "      <th>2</th>\n",
       "      <td>4.7</td>\n",
       "      <td>3.2</td>\n",
       "      <td>1.3</td>\n",
       "      <td>0.2</td>\n",
       "      <td>0</td>\n",
       "      <td>setosa</td>\n",
       "    </tr>\n",
       "    <tr>\n",
       "      <th>3</th>\n",
       "      <td>4.6</td>\n",
       "      <td>3.1</td>\n",
       "      <td>1.5</td>\n",
       "      <td>0.2</td>\n",
       "      <td>0</td>\n",
       "      <td>setosa</td>\n",
       "    </tr>\n",
       "    <tr>\n",
       "      <th>4</th>\n",
       "      <td>5.0</td>\n",
       "      <td>3.6</td>\n",
       "      <td>1.4</td>\n",
       "      <td>0.2</td>\n",
       "      <td>0</td>\n",
       "      <td>setosa</td>\n",
       "    </tr>\n",
       "  </tbody>\n",
       "</table>\n",
       "</div>"
      ],
      "text/plain": [
       "   sepal length (cm)  sepal width (cm)  petal length (cm)  petal width (cm)  \\\n",
       "0                5.1               3.5                1.4               0.2   \n",
       "1                4.9               3.0                1.4               0.2   \n",
       "2                4.7               3.2                1.3               0.2   \n",
       "3                4.6               3.1                1.5               0.2   \n",
       "4                5.0               3.6                1.4               0.2   \n",
       "\n",
       "   species species_name  \n",
       "0        0       setosa  \n",
       "1        0       setosa  \n",
       "2        0       setosa  \n",
       "3        0       setosa  \n",
       "4        0       setosa  "
      ]
     },
     "execution_count": 124,
     "metadata": {},
     "output_type": "execute_result"
    }
   ],
   "source": [
    "df.head()"
   ]
  },
  {
   "cell_type": "code",
   "execution_count": 125,
   "id": "2874b79d",
   "metadata": {
    "ExecuteTime": {
     "end_time": "2022-06-14T14:22:45.164492Z",
     "start_time": "2022-06-14T14:22:45.155967Z"
    },
    "slideshow": {
     "slide_type": "slide"
    }
   },
   "outputs": [],
   "source": [
    "X = df[['petal length (cm)']]\n",
    "y = df['species_name']"
   ]
  },
  {
   "cell_type": "markdown",
   "id": "fe0e473b",
   "metadata": {
    "slideshow": {
     "slide_type": "fragment"
    }
   },
   "source": [
    "In Machine Learning: \n",
    "\n",
    "<b>Input Data</b> = Independent Variables = Features  ->    There can be from 1 to 100,000<p>\n",
    "<b>Target Data </b> = Depdendent Variable  = Predictant. -> Usually only 1"
   ]
  },
  {
   "cell_type": "code",
   "execution_count": 126,
   "id": "d707615b",
   "metadata": {
    "ExecuteTime": {
     "end_time": "2022-06-14T14:22:46.011753Z",
     "start_time": "2022-06-14T14:22:46.003246Z"
    },
    "slideshow": {
     "slide_type": "fragment"
    }
   },
   "outputs": [],
   "source": [
    "X_train, X_test, y_train, y_test = train_test_split(X, y, random_state=42)"
   ]
  },
  {
   "cell_type": "code",
   "execution_count": 127,
   "id": "df463d78",
   "metadata": {
    "ExecuteTime": {
     "end_time": "2022-06-14T14:22:46.725296Z",
     "start_time": "2022-06-14T14:22:46.708723Z"
    },
    "slideshow": {
     "slide_type": "slide"
    }
   },
   "outputs": [
    {
     "data": {
      "text/plain": [
       "KNeighborsClassifier(n_neighbors=3)"
      ]
     },
     "execution_count": 127,
     "metadata": {},
     "output_type": "execute_result"
    }
   ],
   "source": [
    "# Fit the model just on the training set.\n",
    "# https://scikit-learn.org/stable/modules/generated/sklearn.neighbors.KNeighborsClassifier.html\n",
    "knn2 = KNeighborsClassifier(n_neighbors=3)\n",
    "\n",
    "knn2.fit(X_train, y_train)\n"
   ]
  },
  {
   "cell_type": "code",
   "execution_count": 128,
   "id": "679430fc",
   "metadata": {
    "ExecuteTime": {
     "end_time": "2022-06-14T14:22:47.423139Z",
     "start_time": "2022-06-14T14:22:47.388097Z"
    },
    "slideshow": {
     "slide_type": "fragment"
    }
   },
   "outputs": [
    {
     "data": {
      "text/plain": [
       "0.9464285714285714"
      ]
     },
     "execution_count": 128,
     "metadata": {},
     "output_type": "execute_result"
    }
   ],
   "source": [
    "# Accuracy of model on the training data \n",
    "# Accuracy = # correct / total # \n",
    "\n",
    "knn2.score(X_train, y_train)"
   ]
  },
  {
   "cell_type": "code",
   "execution_count": 129,
   "id": "9bcd2ddc",
   "metadata": {
    "ExecuteTime": {
     "end_time": "2022-06-14T14:22:48.683876Z",
     "start_time": "2022-06-14T14:22:48.668460Z"
    },
    "slideshow": {
     "slide_type": "slide"
    }
   },
   "outputs": [
    {
     "data": {
      "text/plain": [
       "0.9736842105263158"
      ]
     },
     "execution_count": 129,
     "metadata": {},
     "output_type": "execute_result"
    }
   ],
   "source": [
    "## Check scores for Test Data \n",
    "knn2.score(X_test, y_test)"
   ]
  },
  {
   "cell_type": "code",
   "execution_count": 130,
   "id": "4b6f32e7",
   "metadata": {
    "ExecuteTime": {
     "end_time": "2022-06-14T14:22:49.753302Z",
     "start_time": "2022-06-14T14:22:49.731384Z"
    },
    "slideshow": {
     "slide_type": "fragment"
    }
   },
   "outputs": [],
   "source": [
    "## Create Train predictions\n",
    "y_train_pred = knn2.predict(X_train)\n",
    "\n",
    "## Create Test Predictions\n",
    "y_test_pred = knn2.predict(X_test)"
   ]
  },
  {
   "cell_type": "markdown",
   "id": "b146501e",
   "metadata": {
    "slideshow": {
     "slide_type": "slide"
    }
   },
   "source": [
    "Confusion Matrix \n",
    "https://machinelearningmastery.com/confusion-matrix-machine-learning/\n",
    "\n",
    "https://towardsdatascience.com/understanding-confusion-matrix-a9ad42dcfd62"
   ]
  },
  {
   "cell_type": "code",
   "execution_count": 131,
   "id": "8f284b6a",
   "metadata": {
    "ExecuteTime": {
     "end_time": "2022-06-14T14:22:53.734595Z",
     "start_time": "2022-06-14T14:22:53.608664Z"
    },
    "slideshow": {
     "slide_type": "slide"
    }
   },
   "outputs": [
    {
     "name": "stderr",
     "output_type": "stream",
     "text": [
      "/Users/joecomeausx/opt/anaconda3/lib/python3.9/site-packages/sklearn/utils/deprecation.py:87: FutureWarning: Function plot_confusion_matrix is deprecated; Function `plot_confusion_matrix` is deprecated in 1.0 and will be removed in 1.2. Use one of the class methods: ConfusionMatrixDisplay.from_predictions or ConfusionMatrixDisplay.from_estimator.\n",
      "  warnings.warn(msg, category=FutureWarning)\n"
     ]
    },
    {
     "data": {
      "text/plain": [
       "<sklearn.metrics._plot.confusion_matrix.ConfusionMatrixDisplay at 0x7f8eaa40c610>"
      ]
     },
     "execution_count": 131,
     "metadata": {},
     "output_type": "execute_result"
    },
    {
     "data": {
      "image/png": "[encoded data removed]",
      "text/plain": [
       "<Figure size 432x288 with 2 Axes>"
      ]
     },
     "metadata": {
      "needs_background": "light"
     },
     "output_type": "display_data"
    }
   ],
   "source": [
    "# tn, fp, fn, tp = confusion_matrix(y_train,y_train_pred)\n",
    "plot_confusion_matrix(knn2,X_train,y_train)"
   ]
  },
  {
   "cell_type": "code",
   "execution_count": 132,
   "id": "61c67cd5",
   "metadata": {
    "ExecuteTime": {
     "end_time": "2022-06-14T14:22:55.421963Z",
     "start_time": "2022-06-14T14:22:55.299255Z"
    },
    "slideshow": {
     "slide_type": "slide"
    }
   },
   "outputs": [
    {
     "data": {
      "text/plain": [
       "Text(0, 0.5, 'sepal length')"
      ]
     },
     "execution_count": 132,
     "metadata": {},
     "output_type": "execute_result"
    },
    {
     "data": {
      "image/png": "[encoded data removed]",
      "text/plain": [
       "<Figure size 432x288 with 1 Axes>"
      ]
     },
     "metadata": {
      "needs_background": "light"
     },
     "output_type": "display_data"
    }
   ],
   "source": [
    "fig, ax = plt.subplots()\n",
    "\n",
    "scatter = ax.scatter(x=df['sepal length (cm)'],\n",
    "           y=df['petal length (cm)'],\n",
    "           c=df['species'])\n",
    "labs = df[\"species_name\"].unique()\n",
    "\n",
    "handles, labels = scatter.legend_elements()\n",
    "# *scatter.legend_elements(),\n",
    "legend1 = ax.legend(handles,labs,\n",
    "                    loc=\"lower right\", title=\"Classes\")\n",
    "\n",
    "ax.set_title('Iris sepal length as a function of petal length')\n",
    "ax.set_xlabel('petal length')\n",
    "ax.set_ylabel('sepal length')\n",
    "#ax.legend();"
   ]
  },
  {
   "cell_type": "markdown",
   "id": "9a40053a",
   "metadata": {
    "slideshow": {
     "slide_type": "slide"
    }
   },
   "source": [
    "## Lets Creates our Own Data so We Can Play Around\n",
    "\n",
    "make_blobs :  https://scikit-learn.org/stable/modules/generated/sklearn.datasets.make_blobs.html#sklearn.datasets.make_blobs"
   ]
  },
  {
   "cell_type": "code",
   "execution_count": 133,
   "id": "3f5f8342",
   "metadata": {
    "ExecuteTime": {
     "end_time": "2022-06-14T14:22:59.525910Z",
     "start_time": "2022-06-14T14:22:59.517827Z"
    },
    "slideshow": {
     "slide_type": "slide"
    }
   },
   "outputs": [],
   "source": [
    "X,y = make_blobs(n_samples=300,n_features=2,centers=3,cluster_std=6.0,random_state=42)\n",
    "X1 = X[:,[0]]\n",
    "X2 = X[:,[1]]\n"
   ]
  },
  {
   "cell_type": "code",
   "execution_count": 134,
   "id": "9191efd5",
   "metadata": {
    "ExecuteTime": {
     "end_time": "2022-06-14T14:23:00.848687Z",
     "start_time": "2022-06-14T14:23:00.739088Z"
    },
    "slideshow": {
     "slide_type": "slide"
    }
   },
   "outputs": [
    {
     "data": {
      "image/png": "[encoded data removed]",
      "text/plain": [
       "<Figure size 432x288 with 1 Axes>"
      ]
     },
     "metadata": {
      "needs_background": "light"
     },
     "output_type": "display_data"
    }
   ],
   "source": [
    "def plotData(X1,X2,y):\n",
    "\n",
    "    fig, ax = plt.subplots()\n",
    "\n",
    "    scatter = ax.scatter(x=X1,\n",
    "               y=X2,\n",
    "               c=y)\n",
    "\n",
    "    ax.set_title('Classification Examples')\n",
    "    ax.set_xlabel('X1')\n",
    "    ax.set_ylabel('X2')\n",
    "    \n",
    "plotData(X1,X2,y)"
   ]
  },
  {
   "cell_type": "markdown",
   "id": "554de2de",
   "metadata": {
    "slideshow": {
     "slide_type": "slide"
    }
   },
   "source": [
    "KNeighborsClassifier - https://scikit-learn.org/stable/modules/generated/sklearn.neighbors.KNeighborsClassifier.html\n",
    "<p>\n",
    "test_train_split - https://scikit-learn.org/stable/modules/generated/sklearn.model_selection.train_test_split.html"
   ]
  },
  {
   "cell_type": "code",
   "execution_count": 135,
   "id": "764f052a",
   "metadata": {
    "ExecuteTime": {
     "end_time": "2022-06-14T14:27:21.376117Z",
     "start_time": "2022-06-14T14:27:21.172690Z"
    },
    "slideshow": {
     "slide_type": "fragment"
    }
   },
   "outputs": [
    {
     "name": "stdout",
     "output_type": "stream",
     "text": [
      "Train Score: 0.88\n",
      "Test Score: 0.84\n"
     ]
    },
    {
     "name": "stderr",
     "output_type": "stream",
     "text": [
      "/Users/joecomeausx/opt/anaconda3/lib/python3.9/site-packages/sklearn/utils/deprecation.py:87: FutureWarning: Function plot_confusion_matrix is deprecated; Function `plot_confusion_matrix` is deprecated in 1.0 and will be removed in 1.2. Use one of the class methods: ConfusionMatrixDisplay.from_predictions or ConfusionMatrixDisplay.from_estimator.\n",
      "  warnings.warn(msg, category=FutureWarning)\n",
      "/Users/joecomeausx/opt/anaconda3/lib/python3.9/site-packages/sklearn/utils/deprecation.py:87: FutureWarning: Function plot_confusion_matrix is deprecated; Function `plot_confusion_matrix` is deprecated in 1.0 and will be removed in 1.2. Use one of the class methods: ConfusionMatrixDisplay.from_predictions or ConfusionMatrixDisplay.from_estimator.\n",
      "  warnings.warn(msg, category=FutureWarning)\n"
     ]
    },
    {
     "data": {
      "image/png": "[encoded data removed]",
      "text/plain": [
       "<Figure size 432x288 with 2 Axes>"
      ]
     },
     "metadata": {
      "needs_background": "light"
     },
     "output_type": "display_data"
    },
    {
     "data": {
      "image/png": "[encoded data removed]",
      "text/plain": [
       "<Figure size 432x288 with 2 Axes>"
      ]
     },
     "metadata": {
      "needs_background": "light"
     },
     "output_type": "display_data"
    }
   ],
   "source": [
    "X_train, X_test, y_train, y_test = train_test_split(X, y, random_state=42)\n",
    "knn2 = KNeighborsClassifier(n_neighbors=3)\n",
    "\n",
    "knn2.fit(X_train, y_train)\n",
    "train_score = knn2.score(X_train, y_train)\n",
    "test_score = knn2.score(X_test, y_test)\n",
    "plot_confusion_matrix(knn2,X_train,y_train)\n",
    "plot_confusion_matrix(knn2,X_test,y_test)\n",
    "\n",
    "print(f\"Train Score: {train_score}\")\n",
    "print(f\"Test Score: {test_score}\")"
   ]
  },
  {
   "cell_type": "markdown",
   "id": "d392863d",
   "metadata": {
    "slideshow": {
     "slide_type": "slide"
    }
   },
   "source": [
    "Over Fitting vs Underfitting \n",
    "\n",
    "Over Fitting  Train_Score > Test_Score\n",
    "Under Fitting Test_Score > Train_Score\n",
    "\n",
    "Desired Fitting.   Train_Score ~= Test_Score\n",
    "\n",
    "https://machinelearningmastery.com/overfitting-and-underfitting-with-machine-learning-algorithms/\n",
    "\n",
    "https://www.geeksforgeeks.org/underfitting-and-overfitting-in-machine-learning/"
   ]
  },
  {
   "cell_type": "markdown",
   "id": "74846340",
   "metadata": {
    "slideshow": {
     "slide_type": "slide"
    }
   },
   "source": [
    "<img src=\"images/overfitting_2.png\">"
   ]
  },
  {
   "cell_type": "markdown",
   "id": "2e835ac8",
   "metadata": {
    "slideshow": {
     "slide_type": "slide"
    }
   },
   "source": [
    "<img src=\"images/overfitting_1.jpeg\">"
   ]
  },
  {
   "cell_type": "markdown",
   "id": "0712ded9",
   "metadata": {
    "slideshow": {
     "slide_type": "slide"
    }
   },
   "source": [
    "Let's Improve our Ability to Run ML Models More Easily\n",
    "<p>\n",
    "Create a Function that does much of the work for us"
   ]
  },
  {
   "cell_type": "code",
   "execution_count": 136,
   "id": "3bad38ba",
   "metadata": {
    "ExecuteTime": {
     "end_time": "2022-06-14T14:59:11.627388Z",
     "start_time": "2022-06-14T14:59:11.351416Z"
    },
    "slideshow": {
     "slide_type": "slide"
    }
   },
   "outputs": [
    {
     "name": "stderr",
     "output_type": "stream",
     "text": [
      "/Users/joecomeausx/opt/anaconda3/lib/python3.9/site-packages/sklearn/utils/deprecation.py:87: FutureWarning: Function plot_confusion_matrix is deprecated; Function `plot_confusion_matrix` is deprecated in 1.0 and will be removed in 1.2. Use one of the class methods: ConfusionMatrixDisplay.from_predictions or ConfusionMatrixDisplay.from_estimator.\n",
      "  warnings.warn(msg, category=FutureWarning)\n",
      "/Users/joecomeausx/opt/anaconda3/lib/python3.9/site-packages/sklearn/utils/deprecation.py:87: FutureWarning: Function plot_confusion_matrix is deprecated; Function `plot_confusion_matrix` is deprecated in 1.0 and will be removed in 1.2. Use one of the class methods: ConfusionMatrixDisplay.from_predictions or ConfusionMatrixDisplay.from_estimator.\n",
      "  warnings.warn(msg, category=FutureWarning)\n"
     ]
    },
    {
     "name": "stdout",
     "output_type": "stream",
     "text": [
      "Train Score: 0.88\n",
      "Test Score: 0.84\n"
     ]
    },
    {
     "data": {
      "image/png": "[encoded data removed]",
      "text/plain": [
       "<Figure size 432x288 with 2 Axes>"
      ]
     },
     "metadata": {
      "needs_background": "light"
     },
     "output_type": "display_data"
    },
    {
     "data": {
      "image/png": "[encoded data removed]",
      "text/plain": [
       "<Figure size 432x288 with 2 Axes>"
      ]
     },
     "metadata": {
      "needs_background": "light"
     },
     "output_type": "display_data"
    }
   ],
   "source": [
    "def runModel(model,X,y,conf):\n",
    "# Split Data into Test and Train \n",
    "    X_train, X_test, y_train, y_test = train_test_split(X, y, random_state=42)\n",
    "    \n",
    "# Fit Model \n",
    "    model.fit(X_train, y_train)\n",
    "    \n",
    "# Get Scores \n",
    "    train_score = model.score(X_train, y_train)\n",
    "    test_score = model.score(X_test, y_test)\n",
    "\n",
    "# Get Confusion Matrix IF Wanted\n",
    "    if (conf == True):\n",
    "        plot_confusion_matrix(model,X_train,y_train)\n",
    "        plot_confusion_matrix(model,X_test,y_test)\n",
    "\n",
    "    print(f\"Train Score: {train_score}\")\n",
    "    print(f\"Test Score: {test_score}\")\n",
    "    \n",
    "    \n",
    "runModel(knn2,X,y,True)"
   ]
  },
  {
   "cell_type": "code",
   "execution_count": 24,
   "id": "c8ab29e6",
   "metadata": {
    "slideshow": {
     "slide_type": "slide"
    }
   },
   "outputs": [
    {
     "name": "stdout",
     "output_type": "stream",
     "text": [
      "Train Score: 0.96\n",
      "Test Score: 0.72\n",
      "Train Score: 0.8177777777777778\n",
      "Test Score: 0.8266666666666667\n",
      "Train Score: 0.7911111111111111\n",
      "Test Score: 0.7733333333333333\n"
     ]
    }
   ],
   "source": [
    "# Support Vector  Machine Ms)%20are,than%20the%20number%20of%20samples.\n",
    "svc = svm.SVC(kernel=\"rbf\",gamma=.7)\n",
    "runModel(svc,X,y,False)\n",
    "\n",
    "svc = svm.SVC(kernel=\"linear\",gamma=.7)\n",
    "runModel(svc,X,y,False)\n",
    "\n",
    "svc = svm.SVC(kernel=\"poly\",gamma=.7)\n",
    "runModel(svc,X,y,False)https://scikit-learn.org/stable/modules/svm.html#:~:text=Support%20vector%20machines%20(SVMs)%20are,than%20the%20number%20of%20samples."
   ]
  },
  {
   "cell_type": "markdown",
   "id": "1c99fcf7",
   "metadata": {
    "slideshow": {
     "slide_type": "slide"
    }
   },
   "source": [
    "Support Vector Machine : https://scikit-learn.org/stable/modules/svm.html#:~:text=Support%20vector%20machines%20(SV"
   ]
  },
  {
   "cell_type": "code",
   "execution_count": 27,
   "id": "c2fc8bab",
   "metadata": {
    "slideshow": {
     "slide_type": "slide"
    }
   },
   "outputs": [
    {
     "name": "stdout",
     "output_type": "stream",
     "text": [
      "Train Score: 1.0\n",
      "Test Score: 0.7733333333333333\n"
     ]
    },
    {
     "name": "stderr",
     "output_type": "stream",
     "text": [
      "C:\\Users\\CoJoe\\anaconda3\\lib\\site-packages\\sklearn\\utils\\deprecation.py:87: FutureWarning: Function plot_confusion_matrix is deprecated; Function `plot_confusion_matrix` is deprecated in 1.0 and will be removed in 1.2. Use one of the class methods: ConfusionMatrixDisplay.from_predictions or ConfusionMatrixDisplay.from_estimator.\n",
      "  warnings.warn(msg, category=FutureWarning)\n",
      "C:\\Users\\CoJoe\\anaconda3\\lib\\site-packages\\sklearn\\utils\\deprecation.py:87: FutureWarning: Function plot_confusion_matrix is deprecated; Function `plot_confusion_matrix` is deprecated in 1.0 and will be removed in 1.2. Use one of the class methods: ConfusionMatrixDisplay.from_predictions or ConfusionMatrixDisplay.from_estimator.\n",
      "  warnings.warn(msg, category=FutureWarning)\n"
     ]
    },
    {
     "data": {
      "image/png": "[encoded data removed]",
      "text/plain": [
       "<Figure size 432x288 with 2 Axes>"
      ]
     },
     "metadata": {
      "needs_background": "light"
     },
     "output_type": "display_data"
    },
    {
     "data": {
      "image/png": "[encoded data removed]",
      "text/plain": [
       "<Figure size 432x288 with 2 Axes>"
      ]
     },
     "metadata": {
      "needs_background": "light"
     },
     "output_type": "display_data"
    }
   ],
   "source": [
    "dTree = tree.DecisionTreeClassifier()\n",
    "runModel(dTree,X,y,True)"
   ]
  },
  {
   "cell_type": "markdown",
   "id": "9df84fe2",
   "metadata": {
    "slideshow": {
     "slide_type": "slide"
    }
   },
   "source": [
    "Decision Tree https://scikit-learn.org/stable/modules/tree.html"
   ]
  },
  {
   "cell_type": "markdown",
   "id": "ae2365a2",
   "metadata": {
    "slideshow": {
     "slide_type": "fragment"
    }
   },
   "source": [
    "Sklearn Supervised Learning Models - https://scikit-learn.org/stable/supervised_learning.html"
   ]
  },
  {
   "cell_type": "markdown",
   "id": "b0465d09",
   "metadata": {
    "slideshow": {
     "slide_type": "slide"
    }
   },
   "source": [
    "## Regression "
   ]
  },
  {
   "cell_type": "markdown",
   "id": "d9c292d6",
   "metadata": {
    "slideshow": {
     "slide_type": "fragment"
    }
   },
   "source": [
    "Because we have chosen a *continuous* variable as our target, our resulting modeling problem is a **regression** problem. One exceedingly common algorithm for regression problems is the celebrated algorithm of **linear regression**.\n",
    "\n",
    "The idea here is simple: Model the target as a linear transformation of your predictors. If we're using only petal length as our predictor of sepal length, then we can express this model as:\n",
    "\n",
    "$y = \\beta_1 x + \\beta_0$."
   ]
  },
  {
   "cell_type": "code",
   "execution_count": 173,
   "id": "e56f699c",
   "metadata": {
    "ExecuteTime": {
     "end_time": "2022-06-14T16:07:05.197321Z",
     "start_time": "2022-06-14T16:07:05.086275Z"
    },
    "slideshow": {
     "slide_type": "slide"
    }
   },
   "outputs": [
    {
     "data": {
      "text/plain": [
       "<matplotlib.collections.PathCollection at 0x7f8ee892a940>"
      ]
     },
     "execution_count": 173,
     "metadata": {},
     "output_type": "execute_result"
    },
    {
     "data": {
      "image/png": "[encoded data removed]",
      "text/plain": [
       "<Figure size 432x288 with 1 Axes>"
      ]
     },
     "metadata": {
      "needs_background": "light"
     },
     "output_type": "display_data"
    }
   ],
   "source": [
    "X,y = make_regression(n_samples=300,n_features=1,random_state=42,noise=3.)\n",
    "\n",
    "plt.scatter(X[:,[0]],y)\n"
   ]
  },
  {
   "cell_type": "markdown",
   "id": "9c9958fe",
   "metadata": {
    "slideshow": {
     "slide_type": "slide"
    }
   },
   "source": [
    "Linear Regression - https://scikit-learn.org/stable/modules/generated/sklearn.linear_model.LinearRegression.html\n",
    "<p>\n",
    "    \n",
    "make_regression - https://scikit-learn.org/stable/modules/generated/sklearn.datasets.make_regression.html\n",
    "<p>\n",
    "    \n",
    "MERTICS - https://scikit-learn.org/stable/modules/model_evaluation.html"
   ]
  },
  {
   "cell_type": "code",
   "execution_count": 141,
   "id": "c9403e67",
   "metadata": {
    "ExecuteTime": {
     "end_time": "2022-06-14T15:43:09.149260Z",
     "start_time": "2022-06-14T15:43:09.139275Z"
    },
    "slideshow": {
     "slide_type": "slide"
    }
   },
   "outputs": [
    {
     "name": "stdout",
     "output_type": "stream",
     "text": [
      "0.9382475738210804 7.090303568654928\n"
     ]
    }
   ],
   "source": [
    "# set up Linear Regression Model \n",
    "lr = LinearRegression()\n",
    "\n",
    "# Train the model\n",
    "lr.fit(X, y)\n",
    "y_pred = lr.predict(X)\n",
    "# Now extract the optimizing coefficients\n",
    "lr.intercept_, lr.coef_\n",
    "\n",
    "# Compute some Metrics \n",
    "mse = mean_squared_error(y,y_pred)\n",
    "r2 = r2_score(y,y_pred)\n",
    "\n",
    "rmse = math.sqrt(mse)\n",
    "print(r2,rmse)"
   ]
  },
  {
   "cell_type": "markdown",
   "id": "92f82216",
   "metadata": {
    "slideshow": {
     "slide_type": "slide"
    }
   },
   "source": [
    "Metrics -> So many options, what to use? \n",
    "<table><tr><td><img src=\"images/mse.png\"></td><td><img src=\"images/rmse.png\"></td></tr></table>"
   ]
  },
  {
   "cell_type": "markdown",
   "id": "4c7eeda5",
   "metadata": {
    "slideshow": {
     "slide_type": "slide"
    }
   },
   "source": [
    "How many processes in the Real World are Linear?\n",
    "<p>\n",
    "Polynomial Regressions"
   ]
  },
  {
   "cell_type": "code",
   "execution_count": 174,
   "id": "993fd7b7",
   "metadata": {
    "ExecuteTime": {
     "end_time": "2022-06-14T16:18:53.757586Z",
     "start_time": "2022-06-14T16:18:53.644044Z"
    },
    "slideshow": {
     "slide_type": "slide"
    }
   },
   "outputs": [
    {
     "data": {
      "text/plain": [
       "<matplotlib.collections.PathCollection at 0x7f8e9810c820>"
      ]
     },
     "execution_count": 174,
     "metadata": {},
     "output_type": "execute_result"
    },
    {
     "data": {
      "image/png": "[encoded data removed]",
      "text/plain": [
       "<Figure size 432x288 with 1 Axes>"
      ]
     },
     "metadata": {
      "needs_background": "light"
     },
     "output_type": "display_data"
    }
   ],
   "source": [
    "def genPoly(n,noise):\n",
    "    np.random.seed(0)\n",
    "    x = 2 - 3 * np.random.normal(0, 1, n)\n",
    "    y = x - 2 * (x ** 2) + 0.5 * (x ** 3) + np.random.normal(-(2**noise), 2**noise, n)\n",
    "    X = []\n",
    "    for val in x:\n",
    "        tmp = []\n",
    "        tmp.append(val)\n",
    "        X.append(tmp)\n",
    "    \n",
    "    return (np.array(X),y)\n",
    "X,y = genPoly(50,0)\n",
    "plt.scatter(X,y, s=10)\n"
   ]
  },
  {
   "cell_type": "code",
   "execution_count": 157,
   "id": "c30a51ed",
   "metadata": {
    "ExecuteTime": {
     "end_time": "2022-06-14T15:57:20.489008Z",
     "start_time": "2022-06-14T15:57:20.477894Z"
    },
    "slideshow": {
     "slide_type": "slide"
    }
   },
   "outputs": [
    {
     "name": "stdout",
     "output_type": "stream",
     "text": [
      "0.6559373723811306 31.509007535476716\n"
     ]
    }
   ],
   "source": [
    "lr = LinearRegression()\n",
    "\n",
    "# Train the model\n",
    "lr.fit(X, y)\n",
    "y_pred = lr.predict(X)\n",
    "mse = mean_squared_error(y,y_pred)\n",
    "r2 = r2_score(y,y_pred)\n",
    "\n",
    "rmse = math.sqrt(mse)\n",
    "print(r2,rmse)"
   ]
  },
  {
   "cell_type": "code",
   "execution_count": 171,
   "id": "5e6222c3",
   "metadata": {
    "ExecuteTime": {
     "end_time": "2022-06-14T16:05:25.405762Z",
     "start_time": "2022-06-14T16:05:25.391302Z"
    },
    "slideshow": {
     "slide_type": "slide"
    }
   },
   "outputs": [
    {
     "name": "stdout",
     "output_type": "stream",
     "text": [
      "0.9997417255763146 0.863289927472401\n"
     ]
    }
   ],
   "source": [
    "poly = PolynomialFeatures(degree=3, include_bias=False)\n",
    "poly_features = poly.fit_transform(X.reshape(-1,1))\n",
    "poly_reg_model = LinearRegression()\n",
    "poly_reg_model.fit(poly_features, y)\n",
    "y_predicted = poly_reg_model.predict(poly_features)\n",
    "\n",
    "mse = mean_squared_error(y,y_predicted)\n",
    "r2 = r2_score(y,y_predicted)\n",
    "\n",
    "rmse = math.sqrt(mse)\n",
    "print(r2,rmse)"
   ]
  },
  {
   "cell_type": "code",
   "execution_count": 172,
   "id": "bf99d89a",
   "metadata": {
    "ExecuteTime": {
     "end_time": "2022-06-14T16:05:31.226987Z",
     "start_time": "2022-06-14T16:05:31.109775Z"
    },
    "slideshow": {
     "slide_type": "slide"
    }
   },
   "outputs": [
    {
     "data": {
      "image/png": "[encoded data removed]",
      "text/plain": [
       "<Figure size 720x432 with 1 Axes>"
      ]
     },
     "metadata": {
      "needs_background": "light"
     },
     "output_type": "display_data"
    }
   ],
   "source": [
    "plt.figure(figsize=(10, 6))\n",
    "plt.title(\"Your first polynomial regression – congrats! :)\", size=16)\n",
    "plt.scatter(X, y)\n",
    "plt.scatter(X, y_predicted, c=\"red\")\n",
    "plt.show()"
   ]
  },
  {
   "cell_type": "markdown",
   "id": "bfd95fc9",
   "metadata": {
    "ExecuteTime": {
     "end_time": "2022-06-14T16:03:28.615374Z",
     "start_time": "2022-06-14T16:03:28.607424Z"
    },
    "slideshow": {
     "slide_type": "slide"
    }
   },
   "source": [
    "PolynomialFeatures - https://scikit-learn.org/stable/modules/generated/sklearn.preprocessing.PolynomialFeatures.html\n",
    "<p>\n",
    "    https://data36.com/polynomial-regression-python-scikit-learn/"
   ]
  },
  {
   "cell_type": "markdown",
   "id": "0c19685a",
   "metadata": {
    "ExecuteTime": {
     "end_time": "2022-06-14T16:25:37.002327Z",
     "start_time": "2022-06-14T16:25:36.996391Z"
    },
    "slideshow": {
     "slide_type": "slide"
    }
   },
   "source": [
    "<img src=\"images/fun.jpeg\" style=\"width:500px;height:500px\">"
   ]
  },
  {
   "cell_type": "code",
   "execution_count": null,
   "id": "f31fa78d",
   "metadata": {},
   "outputs": [],
   "source": []
  }
 ],
 "metadata": {
  "celltoolbar": "Slideshow",
  "kernelspec": {
   "display_name": "Python 3 (ipykernel)",
   "language": "python",
   "name": "python3"
  },
  "language_info": {
   "codemirror_mode": {
    "name": "ipython",
    "version": 3
   },
   "file_extension": ".py",
   "mimetype": "text/x-python",
   "name": "python",
   "nbconvert_exporter": "python",
   "pygments_lexer": "ipython3",
   "version": "3.9.7"
  },
  "toc": {
   "base_numbering": 1,
   "nav_menu": {},
   "number_sections": true,
   "sideBar": true,
   "skip_h1_title": false,
   "title_cell": "Table of Contents",
   "title_sidebar": "Contents",
   "toc_cell": false,
   "toc_position": {},
   "toc_section_display": true,
   "toc_window_display": false
  }
 },
 "nbformat": 4,
 "nbformat_minor": 5
}
